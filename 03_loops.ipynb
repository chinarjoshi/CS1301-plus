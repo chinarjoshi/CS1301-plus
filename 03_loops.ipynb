{
 "cells": [
  {
   "cell_type": "code",
   "execution_count": 1,
   "id": "69ced549-437f-4bff-87b8-89b631e57c50",
   "metadata": {},
   "outputs": [
    {
     "data": {
      "image/png": "[encoded data removed]",
      "text/plain": [
       "<IPython.core.display.Image object>"
      ]
     },
     "execution_count": 1,
     "metadata": {
      "image/png": {
       "height": 400,
       "width": 400
      }
     },
     "output_type": "execute_result"
    }
   ],
   "source": [
    "# ATTENDANCE FORM\n",
    "from IPython import display\n",
    "display.Image(\"/home/c/notes/plus/attendance.png\", width=400, height=400)"
   ]
  },
  {
   "cell_type": "markdown",
   "id": "b5eab138-6f01-4661-a39e-23cdf90bd0e4",
   "metadata": {},
   "source": [
    "## Please do the attendance form ^"
   ]
  },
  {
   "cell_type": "markdown",
   "id": "dfd2780e-04c1-4c01-baa4-9cfb5d8308a8",
   "metadata": {},
   "source": [
    "### Topic List\n",
    "- For loop\n",
    "- While loop\n",
    "- Range function (start, stop, step)\n",
    "- Small intro to lists\n",
    "- Enumerate function\n",
    "- The mighty 'in' in operator\n",
    "- Generators (maybe)"
   ]
  },
  {
   "cell_type": "code",
   "execution_count": 7,
   "id": "ed8020c3-9ff9-47e7-a895-7bf2e7c1f860",
   "metadata": {},
   "outputs": [
    {
     "name": "stdout",
     "output_type": "stream",
     "text": [
      "0123456789"
     ]
    }
   ],
   "source": [
    "for i in range(10):\n",
    "    print(i, end='')"
   ]
  },
  {
   "cell_type": "markdown",
   "id": "715ac57b-731f-4803-9b3f-69d2974178c6",
   "metadata": {
    "tags": []
   },
   "source": [
    "## *Main Activity*\n",
    "#### Section 1:"
   ]
  },
  {
   "cell_type": "code",
   "execution_count": 8,
   "id": "1895a180-b83c-47bf-b05a-f8fc59a5301f",
   "metadata": {},
   "outputs": [
    {
     "name": "stdout",
     "output_type": "stream",
     "text": [
      "0 1 2 3 4 5 6 "
     ]
    }
   ],
   "source": [
    "for x in range(7):\n",
    "    print(x, end=' ')"
   ]
  },
  {
   "cell_type": "code",
   "execution_count": 9,
   "id": "95cfb69f-279e-4452-9889-9f4aebd8a1da",
   "metadata": {},
   "outputs": [
    {
     "name": "stdout",
     "output_type": "stream",
     "text": [
      "EE\n",
      "xx\n",
      "cc\n",
      "aa\n",
      "ll\n",
      "ii\n",
      "bb\n",
      "uu\n",
      "rr\n"
     ]
    }
   ],
   "source": [
    "for char in \"Excalibur\":\n",
    "    print(char * 2)"
   ]
  },
  {
   "cell_type": "code",
   "execution_count": 11,
   "id": "d3ce370f-5b12-4db6-9ba8-c132d7b5830e",
   "metadata": {},
   "outputs": [
    {
     "name": "stdout",
     "output_type": "stream",
     "text": [
      "abcdefghijklmnopqrstuvwxyz\n"
     ]
    }
   ],
   "source": [
    "from string import ascii_lowercase\n",
    "\n",
    "print(ascii_lowercase)"
   ]
  },
  {
   "cell_type": "code",
   "execution_count": 14,
   "id": "2d82f953-4b00-4fb7-aed5-8d017fc4b10c",
   "metadata": {},
   "outputs": [
    {
     "name": "stdout",
     "output_type": "stream",
     "text": [
      "False\n",
      "True\n",
      "True\n",
      "True\n",
      "True\n",
      "True\n"
     ]
    }
   ],
   "source": [
    "for char in 'Chinar':\n",
    "    print(char in ascii_lowercase)"
   ]
  },
  {
   "cell_type": "code",
   "execution_count": 34,
   "id": "38a15ee8-0414-4f41-9872-71b6a6501375",
   "metadata": {},
   "outputs": [
    {
     "name": "stdout",
     "output_type": "stream",
     "text": [
      "1\n",
      "4\n",
      "3\n",
      "6\n"
     ]
    },
    {
     "data": {
      "text/plain": [
       "3.33"
      ]
     },
     "execution_count": 34,
     "metadata": {},
     "output_type": "execute_result"
    }
   ],
   "source": [
    "def mystery(x):\n",
    "    # Print out integers left to right, but immediately return the float\n",
    "    # If you see a float\n",
    "    for y in x:\n",
    "        if y // 1 != y:\n",
    "            return y\n",
    "        else:\n",
    "            print(y)\n",
    "    \n",
    "mystery([1, 4, 3, 6, 3.33, 7])"
   ]
  },
  {
   "cell_type": "code",
   "execution_count": 2,
   "id": "bbf4acac-518c-438f-aa40-e3cf81f4af84",
   "metadata": {},
   "outputs": [
    {
     "name": "stdout",
     "output_type": "stream",
     "text": [
      "0 -> 0\n",
      "1 -> 1\n",
      "2 -> 1\n",
      "3 -> 2\n",
      "4 -> 3\n",
      "5 -> 5\n",
      "6 -> 8\n",
      "7 -> 13\n"
     ]
    }
   ],
   "source": [
    "# Rewrite the following for loop as a while loop\n",
    "\n",
    "fib = [0, 1, 1, 2, 3, 5, 8, 13]\n",
    "\n",
    "i = 0\n",
    "while i < len(fib):\n",
    "    print(f'{i} -> {fib[i]}')\n",
    "    i += 1"
   ]
  },
  {
   "cell_type": "code",
   "execution_count": 44,
   "id": "0bf25e28-22a3-4109-8677-aeabf25f3adc",
   "metadata": {},
   "outputs": [
    {
     "ename": "ValueError",
     "evalue": "Format specifier missing precision",
     "output_type": "error",
     "traceback": [
      "\u001b[0;31m---------------------------------------------------------------------------\u001b[0m",
      "\u001b[0;31mValueError\u001b[0m                                Traceback (most recent call last)",
      "Cell \u001b[0;32mIn[44], line 1\u001b[0m\n\u001b[0;32m----> 1\u001b[0m \u001b[38;5;124mf\u001b[39m\u001b[38;5;124m'\u001b[39m\u001b[38;5;132;01m{\u001b[39;00m\u001b[38;5;241m3.333333333\u001b[39m\u001b[38;5;132;01m:\u001b[39;00m\u001b[38;5;124m3.f\u001b[39m\u001b[38;5;132;01m}\u001b[39;00m\u001b[38;5;124m'\u001b[39m\n",
      "\u001b[0;31mValueError\u001b[0m: Format specifier missing precision"
     ]
    }
   ],
   "source": [
    "f'{3.333333333:3.f}'"
   ]
  },
  {
   "cell_type": "code",
   "execution_count": 3,
   "id": "693e0a5e-902f-4413-ac0c-3a30836b7b14",
   "metadata": {},
   "outputs": [
    {
     "name": "stdout",
     "output_type": "stream",
     "text": [
      "0\n",
      "2\n",
      "4\n",
      "6\n",
      "8\n",
      "10\n",
      "12\n",
      "14\n",
      "16\n",
      "18\n"
     ]
    }
   ],
   "source": [
    "def normal():\n",
    "    for i in range(10):\n",
    "        print(i * 2)\n",
    "normal()"
   ]
  },
  {
   "cell_type": "code",
   "execution_count": 4,
   "id": "e15056ba-fe7f-46ee-b456-a6df943c9bdc",
   "metadata": {},
   "outputs": [
    {
     "name": "stdout",
     "output_type": "stream",
     "text": [
      "0\n",
      "1\n",
      "2\n",
      "3\n",
      "4\n",
      "5\n",
      "6\n",
      "7\n",
      "8\n",
      "9\n"
     ]
    }
   ],
   "source": [
    "def generator(i):\n",
    "    for x in range(i):\n",
    "        yield x\n",
    "        \n",
    "for x in generator(10):\n",
    "    print(x)"
   ]
  },
  {
   "cell_type": "markdown",
   "id": "0193b2d4-46c4-437f-ba71-221990ad824e",
   "metadata": {},
   "source": [
    "## *Closer*\n"
   ]
  },
  {
   "cell_type": "markdown",
   "id": "0eee8ebb-1f2e-4c5d-a7da-2636a3b54ab2",
   "metadata": {},
   "source": [
    "#### CODING PROBLEM #2\n",
    "\n",
    "Write a function 'range' that perfectly mimics the built-in 'range' function. It must have a default parameter, 'start', a regular parameter, 'stop', and a default parameter, 'step'. The return type must be a generator. You may NOT use a for loop in the function body.\n",
    "\n",
    "Examples:\n",
    "\n",
    "    >>> for i in range(10):\n",
    "    ...     print(i, end=', ')\n",
    "    0, 1, 2, 3, 4, 5, 6, 7, 8, 9,\n",
    "    \n",
    "    >>> for i in range(3, 8):\n",
    "    ...     print(i, end=', ')\n",
    "    3, 4, 5, 6, 7,\n",
    "    \n",
    "    >>> for i in range(-4, -8, -1):\n",
    "    ...     print(i, end=', ')\n",
    "    -4, -5, -6, -7"
   ]
  },
  {
   "cell_type": "code",
   "execution_count": 18,
   "id": "4580ca68-87b2-4720-9062-b41e0a9adc68",
   "metadata": {},
   "outputs": [
    {
     "name": "stdout",
     "output_type": "stream",
     "text": [
      "0\n",
      "1\n",
      "2\n",
      "3\n",
      "4\n",
      "5\n",
      "6\n",
      "7\n",
      "8\n",
      "9\n",
      "10\n",
      "11\n",
      "12\n",
      "13\n",
      "14\n",
      "15\n",
      "16\n",
      "17\n",
      "18\n",
      "19\n"
     ]
    }
   ],
   "source": [
    "def range(stop, start=0, step=1):\n",
    "    i = start\n",
    "    while i < stop:\n",
    "        yield i\n",
    "        i += step\n",
    "        \n",
    "for i in range(20):\n",
    "    print(i)"
   ]
  },
  {
   "cell_type": "markdown",
   "id": "e5e34f05-9dc9-4be6-b643-c548e254a844",
   "metadata": {},
   "source": [
    "#### CODING PROBLEM #1\n",
    "\n",
    "Write a function 'reverse_matrix' that prints an arbritrary length matrix in reverse order. There must be one list parameter, 'matrix', that is a 2D matrix.\n",
    "\n",
    "Note: To loop over a list in reverse, append [::-1] at the end of the list name. This is a feature of list slicing'\n",
    "\n",
    "`[1, 2, 3][::-1] == [3, 2, 1]`\n",
    "\n",
    "Examples:\n",
    "    \n",
    "    >>> matrix = [\n",
    "    ...    [1, 2, 3],\n",
    "    ...    [4, 5, 6],\n",
    "    ...    [7, 8, 9]\n",
    "    ... ]\n",
    "    >>> reverse_matrix(matrix)\n",
    "    9 8 7\n",
    "    6 5 4\n",
    "    3 2 1\n",
    "    >>> matrix2 = [\n",
    "    ...     [1],\n",
    "    ...     [1, 2],\n",
    "    ...     [1, 2, 3]\n",
    "    ... ]\n",
    "    >>> reverse_matrix(matrix2)\n",
    "    3 2 1\n",
    "    2 1\n",
    "    1"
   ]
  }
 ],
 "metadata": {
  "kernelspec": {
   "display_name": "Python 3 (ipykernel)",
   "language": "python",
   "name": "python3"
  },
  "language_info": {
   "codemirror_mode": {
    "name": "ipython",
    "version": 3
   },
   "file_extension": ".py",
   "mimetype": "text/x-python",
   "name": "python",
   "nbconvert_exporter": "python",
   "pygments_lexer": "ipython3",
   "version": "3.10.9"
  }
 },
 "nbformat": 4,
 "nbformat_minor": 5
}
