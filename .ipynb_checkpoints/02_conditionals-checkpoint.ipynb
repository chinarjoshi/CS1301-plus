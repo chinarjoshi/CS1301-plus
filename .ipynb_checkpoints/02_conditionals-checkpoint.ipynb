{
 "cells": [
  {
   "cell_type": "code",
   "execution_count": null,
   "id": "69ced549-437f-4bff-87b8-89b631e57c50",
   "metadata": {},
   "outputs": [],
   "source": [
    "# ATTENDANCE FORM\n",
    "from IPython import display\n",
    "display.Image(\"/home/c/notes/plus/attendance.png\", width=400, height=400)"
   ]
  },
  {
   "cell_type": "markdown",
   "id": "dfd2780e-04c1-4c01-baa4-9cfb5d8308a8",
   "metadata": {},
   "source": [
    "### Topic List\n",
    "- Boolean expressions\n",
    "- Conditional statements\n",
    "- Import statements\n",
    "- Math operators on different types\n",
    "- In operator!!!\n",
    "- Arithmetic shorthand\n",
    "- Flow of logic"
   ]
  },
  {
   "cell_type": "markdown",
   "id": "88274edd-dc11-4aae-9c04-9ecae49642d6",
   "metadata": {},
   "source": [
    "## *Opener*\n",
    "### Brain-dump\n",
    "#### Section 0: Write all syntax and logical rules about conditionals, then write practice problems using those rules"
   ]
  },
  {
   "cell_type": "markdown",
   "id": "9ce6faae-addb-4f34-a4ae-9d1adf6e13ca",
   "metadata": {
    "tags": []
   },
   "source": [
    "#### Review of truthy values\n",
    "Built-in types can hold a wide range of values, but programmers decided there is one false value, while everything else is True. For example:"
   ]
  },
  {
   "cell_type": "code",
   "execution_count": null,
   "id": "2fd24e26-12c6-4b64-995d-46407951fb3a",
   "metadata": {},
   "outputs": [],
   "source": [
    "bool(0), bool(0.0), bool(''), bool(None)"
   ]
  },
  {
   "cell_type": "code",
   "execution_count": null,
   "id": "6ddcf673-1bc7-4c03-933f-52ca9205066e",
   "metadata": {},
   "outputs": [],
   "source": [
    "bool(1), bool(139), bool(98.7), bool('Hello')"
   ]
  },
  {
   "cell_type": "markdown",
   "id": "eaa4ae84-5872-4175-a301-314dda9d5c84",
   "metadata": {},
   "source": [
    "In addition, True and False have default values when converted to other types, which can be used creatively to express some logic"
   ]
  },
  {
   "cell_type": "code",
   "execution_count": null,
   "id": "84385337-b81f-4075-9c94-82e31fa2359d",
   "metadata": {},
   "outputs": [],
   "source": [
    "int(False), float(False), int(True), float(True), \"Hello World\" * False, \"Hello World\" * True"
   ]
  },
  {
   "cell_type": "markdown",
   "id": "5724e84f-91d8-4a17-9239-da4da9ebb872",
   "metadata": {},
   "source": [
    "## Main Activity\n",
    "### Section 1: Truth tables"
   ]
  },
  {
   "cell_type": "markdown",
   "id": "8774706d-bc7c-4f94-a276-1f50f0eed0aa",
   "metadata": {},
   "source": [
    "Draw truth tables for the following propositions"
   ]
  },
  {
   "cell_type": "code",
   "execution_count": null,
   "id": "72dd7b11-f650-4256-9d99-e36294bcd186",
   "metadata": {},
   "outputs": [],
   "source": [
    "p and q"
   ]
  },
  {
   "cell_type": "code",
   "execution_count": null,
   "id": "65a90b18-c03e-41de-8e1e-6375d53a6ec9",
   "metadata": {},
   "outputs": [],
   "source": [
    "p or q"
   ]
  },
  {
   "cell_type": "code",
   "execution_count": null,
   "id": "a50a1492-66aa-42f8-a4b8-cbeac6a4a79d",
   "metadata": {},
   "outputs": [],
   "source": [
    "p or q and not p"
   ]
  },
  {
   "cell_type": "code",
   "execution_count": null,
   "id": "1c0ec314-a064-4a2d-b302-ec8ec2fb1448",
   "metadata": {},
   "outputs": [],
   "source": [
    "not (not q and not p)"
   ]
  },
  {
   "cell_type": "code",
   "execution_count": null,
   "id": "1669ce48-0b99-4e3d-a725-08cef064ab4f",
   "metadata": {},
   "outputs": [],
   "source": [
    "p and q or r"
   ]
  },
  {
   "cell_type": "code",
   "execution_count": null,
   "id": "c6098dd9-b90d-477b-bae6-ceb8680cf6b1",
   "metadata": {},
   "outputs": [],
   "source": [
    "r or p and not q"
   ]
  },
  {
   "cell_type": "code",
   "execution_count": null,
   "id": "36180bee-ba2d-486a-a183-6a78b9efc086",
   "metadata": {},
   "outputs": [],
   "source": [
    "(q or p) and r or q"
   ]
  },
  {
   "cell_type": "markdown",
   "id": "404ac0da-6e6d-45bf-8b8f-b8b3fc8f937e",
   "metadata": {},
   "source": [
    "Draw a table of input types vs output types for all math operators"
   ]
  },
  {
   "cell_type": "code",
   "execution_count": 1,
   "id": "bac7f7e7-421c-4a22-9e8d-5e2c4c6c560a",
   "metadata": {},
   "outputs": [
    {
     "data": {
      "text/plain": [
       "(int, float, str, bool)"
      ]
     },
     "execution_count": 1,
     "metadata": {},
     "output_type": "execute_result"
    }
   ],
   "source": [
    "int, float, str, bool"
   ]
  },
  {
   "cell_type": "code",
   "execution_count": 4,
   "id": "e679c8ad-ce1f-4b6f-90e7-5dc3053609b9",
   "metadata": {},
   "outputs": [
    {
     "name": "stdout",
     "output_type": "stream",
     "text": [
      "30\n"
     ]
    }
   ],
   "source": [
    "a = True\n",
    "b = 20\n",
    "if not a:\n",
    "    b /= 2\n",
    "else:\n",
    "    b *= 2\n",
    "b -= 10\n",
    "print(b)"
   ]
  },
  {
   "cell_type": "code",
   "execution_count": 6,
   "id": "2bf250eb-6ab2-480c-b2a9-25a3f256beb5",
   "metadata": {},
   "outputs": [
    {
     "name": "stdout",
     "output_type": "stream",
     "text": [
      "p and r and not q\n"
     ]
    }
   ],
   "source": [
    "p = True\n",
    "q = False\n",
    "r = True\n",
    "\n",
    "if p and r:\n",
    "    if not q:\n",
    "        print(\"p and r and not q\")\n",
    "    else:\n",
    "        print(\"p and r and q\")\n",
    "elif r and not q:\n",
    "    print(\"r and not q\")\n",
    "    if p:\n",
    "        print(\"r and not q and p\")"
   ]
  },
  {
   "cell_type": "code",
   "execution_count": 7,
   "id": "e353c9cc-0ff9-423d-b9c1-904de3df4cbb",
   "metadata": {},
   "outputs": [
    {
     "data": {
      "text/plain": [
       "'Hello'"
      ]
     },
     "execution_count": 7,
     "metadata": {},
     "output_type": "execute_result"
    }
   ],
   "source": [
    "def transform(a, b):\n",
    "    if a >= 5:\n",
    "        return a and b\n",
    "    else:\n",
    "        return a * b\n",
    "\n",
    "transform(6, \"Hello\")"
   ]
  },
  {
   "cell_type": "code",
   "execution_count": 12,
   "id": "87876216-ac59-4443-b7d6-5cc3d4182f4d",
   "metadata": {},
   "outputs": [
    {
     "data": {
      "text/plain": [
       "'Second'"
      ]
     },
     "execution_count": 12,
     "metadata": {},
     "output_type": "execute_result"
    }
   ],
   "source": [
    "False and \"First\" or \"Second\""
   ]
  },
  {
   "cell_type": "code",
   "execution_count": null,
   "id": "2e6940f2-d7d0-4349-b75d-1e71ec67e99e",
   "metadata": {},
   "outputs": [],
   "source": [
    "# What does the expression evaluate to\n",
    "\n"
   ]
  },
  {
   "cell_type": "markdown",
   "id": "aed8389b-86a1-4d06-ac37-96f5de26f2dc",
   "metadata": {},
   "source": [
    "## *Closer*"
   ]
  },
  {
   "cell_type": "markdown",
   "id": "d6ced797-fbe4-46e2-b307-67903af9c4eb",
   "metadata": {},
   "source": [
    "https://gatech.instructure.com/courses/308850/files/folder/Lecture%20Materials?preview=38415621"
   ]
  },
  {
   "cell_type": "markdown",
   "id": "4742e3b0-532d-4a35-ace6-bafc65e26f97",
   "metadata": {},
   "source": [
    "https://gatech.instructure.com/courses/308850/files/folder/Lecture%20Materials?preview=37907801"
   ]
  },
  {
   "cell_type": "markdown",
   "id": "6a915fc2-8dae-42be-a62a-729c8e950446",
   "metadata": {},
   "source": [
    "Write a truth table\n",
    "nested if statments\n",
    "return value changed based on conditional\n",
    "printing tracing\n",
    "Write problems"
   ]
  }
 ],
 "metadata": {
  "kernelspec": {
   "display_name": "Python 3 (ipykernel)",
   "language": "python",
   "name": "python3"
  },
  "language_info": {
   "codemirror_mode": {
    "name": "ipython",
    "version": 3
   },
   "file_extension": ".py",
   "mimetype": "text/x-python",
   "name": "python",
   "nbconvert_exporter": "python",
   "pygments_lexer": "ipython3",
   "version": "3.10.9"
  }
 },
 "nbformat": 4,
 "nbformat_minor": 5
}
