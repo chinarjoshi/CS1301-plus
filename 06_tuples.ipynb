{
 "cells": [
  {
   "cell_type": "code",
   "execution_count": 7,
   "id": "69ced549-437f-4bff-87b8-89b631e57c50",
   "metadata": {},
   "outputs": [
    {
     "data": {
      "image/png": "[encoded data removed]",
      "text/plain": [
       "<IPython.core.display.Image object>"
      ]
     },
     "execution_count": 7,
     "metadata": {
      "image/png": {
       "height": 400,
       "width": 400
      }
     },
     "output_type": "execute_result"
    }
   ],
   "source": [
    "# ATTENDANCE FORM\n",
    "from IPython import display\n",
    "display.Image(\"/home/c/projects/CS1301-plus/attendance.png\", width=400, height=400)"
   ]
  },
  {
   "cell_type": "markdown",
   "id": "dfd2780e-04c1-4c01-baa4-9cfb5d8308a8",
   "metadata": {
    "tags": []
   },
   "source": [
    "### Topic List\n",
    "- *Cloning vs Aliasing*\n",
    "- List methods\n",
    "- Tuples\n",
    "- Nested containers"
   ]
  },
  {
   "cell_type": "markdown",
   "id": "1d2cebdf-29be-4acb-9566-b544c7c87251",
   "metadata": {},
   "source": [
    "## Discussion\n",
    "\n",
    "Compare and contrast lists and strings for the following attributes:\n",
    "\n",
    "* Mutability\n",
    "* Indexing\n",
    "* Splicing\n",
    "* Addition and subtraction\n",
    "* Looping"
   ]
  },
  {
   "cell_type": "markdown",
   "id": "715ac57b-731f-4803-9b3f-69d2974178c6",
   "metadata": {
    "tags": []
   },
   "source": [
    "## *Main Activity*\n",
    "#### Section 1:"
   ]
  },
  {
   "cell_type": "code",
   "execution_count": null,
   "id": "42167ec3-2826-416c-8e68-2761a9af9f73",
   "metadata": {},
   "outputs": [],
   "source": [
    "['Hello'] == list('Hello')"
   ]
  },
  {
   "cell_type": "code",
   "execution_count": null,
   "id": "dc1014dc-2f00-4212-a2a4-61c4aeb19854",
   "metadata": {},
   "outputs": [],
   "source": [
    "# Cloning\n",
    "x = 'Hello'\n",
    "y = x\n",
    "y += '!'\n",
    "x"
   ]
  },
  {
   "cell_type": "code",
   "execution_count": null,
   "id": "e94b31d0-33e4-4bca-8139-1ec9c5105d53",
   "metadata": {},
   "outputs": [],
   "source": [
    "# Aliasing\n",
    "x = ['Hello']\n",
    "y = x\n",
    "y += '!'\n",
    "x"
   ]
  },
  {
   "cell_type": "code",
   "execution_count": 6,
   "id": "b86fc8fe-9f23-45a4-afeb-4d8c82896b21",
   "metadata": {},
   "outputs": [],
   "source": [
    "# Get the letter d from this nested structure\n",
    "\n",
    "nest = [\n",
    "    (['and', 'or'], 't'), ['f']\n",
    "]"
   ]
  },
  {
   "cell_type": "code",
   "execution_count": null,
   "id": "0bb77d3d-d47b-4e89-9940-3a66bb12bdf3",
   "metadata": {},
   "outputs": [],
   "source": [
    "# Return the first letter in every word of 'intro' as a string\n",
    "intro = \"Once upon a time, in a galaxy far far away...\"\n",
    "\n",
    "for i in intro.split():\n",
    "    print(i[0])"
   ]
  },
  {
   "cell_type": "code",
   "execution_count": null,
   "id": "6a7a9d8c-bffd-48ad-8444-a7322a12e0e5",
   "metadata": {},
   "outputs": [],
   "source": [
    "# Delete all even-index elements of the following list\n",
    "\n",
    "l = list(range(20))"
   ]
  },
  {
   "cell_type": "code",
   "execution_count": null,
   "id": "7c1841ab-552a-4aff-9731-ee9c65511b98",
   "metadata": {},
   "outputs": [],
   "source": [
    "# Give a tuple to this function, and unpack the values back into x, y, and z\n",
    "x = 1\n",
    "y = 2\n",
    "z = 3\n",
    "\n",
    "def add(t: tuple) -> list:\n",
    "    return [t[0] * 2, t[1] * 3, t[2] * 4]\n",
    "\n",
    "# t = "
   ]
  },
  {
   "cell_type": "code",
   "execution_count": null,
   "id": "9a2b20fc-9833-4a83-b678-41638e69857f",
   "metadata": {},
   "outputs": [],
   "source": [
    "# Make this space separated string into a comma seperated string\n",
    "\n",
    "nums = '1 2 3 4 5 6 7'\n",
    "\n",
    "nums = nums.split()\n",
    "nums.join"
   ]
  },
  {
   "cell_type": "code",
   "execution_count": 5,
   "id": "2fb9e3bb-1932-4490-a5cb-03e4ac211036",
   "metadata": {},
   "outputs": [],
   "source": [
    "# What does this do\n",
    "\n",
    "x = ['a', 'b', 'b', 'b', 'a']\n",
    "x.remove('b')\n",
    "del x[:2]"
   ]
  },
  {
   "cell_type": "markdown",
   "id": "0193b2d4-46c4-437f-ba71-221990ad824e",
   "metadata": {},
   "source": [
    "## *Closer*\n"
   ]
  },
  {
   "cell_type": "markdown",
   "id": "e5e34f05-9dc9-4be6-b643-c548e254a844",
   "metadata": {},
   "source": [
    "#### CODING PROBLEM #1\n",
    "\n",
    "Write a function called 'flatten' that takes a nested list as an argument and returns a flattened list, where all the sublists are concatenated into a single list.\n",
    "\n",
    "Example:\n",
    "\n",
    "    >>> flatten([[1, 2, 3], [4, 5, 6], [7, 8, 9]])\n",
    "    [1, 2, 3, 4, 5, 6, 7, 8, 9]\n",
    "    \n",
    "    >>> flatten([1, 2, 3])\n",
    "    [1, 2, 3]\n",
    "    \n",
    "    >>> flatten([[1], [2], 3])\n",
    "    [1, 2, 3]"
   ]
  },
  {
   "cell_type": "markdown",
   "id": "cdc45d59-626f-4007-920c-09c430d706cb",
   "metadata": {},
   "source": [
    "#### CODING PROBLEM #2\n",
    "\n",
    "Write a function named unique_chars that takes a list of strings as input and returns one string of all the unique characters in sorted order.\n",
    "\n",
    "Note: THere is a function 'sorted' that returns the sorted version of its input.\n",
    "\n",
    "Example:\n",
    "\n",
    "    >>> unique_chars(['aabc', 'cbadaa', 'abbb'])\n",
    "    'abcd'\n",
    "    \n",
    "    >>> unique_chars(['asdf', 'fdsa', 'sdfa'])\n",
    "    'asdf'"
   ]
  },
  {
   "cell_type": "markdown",
   "id": "0d7a829a-2645-40ac-965b-2e3f30a39bec",
   "metadata": {},
   "source": [
    "#### CODING PROBLEM #3\n",
    "\n",
    "Write a function named 'longest_inc_subsequence' that takes a list of integers as an argument and returns the longest increasing subsequence. An increasing subsequence is defined as a set of elements where the elements are in strictly increasing order.\n",
    "\n",
    "\n",
    "Example:\n",
    "\n",
    "    >>> longest_inc_subsequence([3, 4, 5, 1, 6])\n",
    "    [3, 4, 5, 6]\n",
    "    \n",
    "    >>> longest_inc_subsequence([5, 4, 3, 2, 1])\n",
    "    [5]\n",
    "    \n",
    "    >>> longest_inc_subsequence([3, 4, 1, 9, 5])\n",
    "    [3, 4, 5]"
   ]
  }
 ],
 "metadata": {
  "kernelspec": {
   "display_name": "Python 3 (ipykernel)",
   "language": "python",
   "name": "python3"
  },
  "language_info": {
   "codemirror_mode": {
    "name": "ipython",
    "version": 3
   },
   "file_extension": ".py",
   "mimetype": "text/x-python",
   "name": "python",
   "nbconvert_exporter": "python",
   "pygments_lexer": "ipython3",
   "version": "3.10.9"
  }
 },
 "nbformat": 4,
 "nbformat_minor": 5
}
