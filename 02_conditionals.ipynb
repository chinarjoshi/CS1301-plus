{
 "cells": [
  {
   "cell_type": "code",
   "execution_count": null,
   "id": "69ced549-437f-4bff-87b8-89b631e57c50",
   "metadata": {},
   "outputs": [],
   "source": [
    "# ATTENDANCE FORM\n",
    "from IPython import display\n",
    "display.Image(\"/home/c/notes/plus/attendance.png\", width=400, height=400)"
   ]
  },
  {
   "cell_type": "markdown",
   "id": "dfd2780e-04c1-4c01-baa4-9cfb5d8308a8",
   "metadata": {},
   "source": [
    "### Topic List\n",
    "- Boolean expressions\n",
    "- Conditional statements\n",
    "- Importing modules\n",
    "- Math operators on different types***\n",
    "- The 'in' operator on strings\n",
    "- Arithmetic shorthand\n",
    "- Guide to solving coding problems"
   ]
  },
  {
   "cell_type": "markdown",
   "id": "d6ced797-fbe4-46e2-b307-67903af9c4eb",
   "metadata": {},
   "source": [
    "#### Lecture Slides:\n",
    "\n",
    "https://gatech.instructure.com/courses/308850/files/folder/Lecture%20Materials?preview=38415621\n",
    "\n",
    "https://gatech.instructure.com/courses/308850/files/folder/Lecture%20Materials?preview=37907801"
   ]
  },
  {
   "cell_type": "markdown",
   "id": "88274edd-dc11-4aae-9c04-9ecae49642d6",
   "metadata": {},
   "source": [
    "## *Opener*\n",
    "### Brain-dump\n",
    "#### Section 0: Write all syntax and logical rules about conditionals, then write practice problems using those rules"
   ]
  },
  {
   "cell_type": "markdown",
   "id": "9ce6faae-addb-4f34-a4ae-9d1adf6e13ca",
   "metadata": {
    "jp-MarkdownHeadingCollapsed": true,
    "tags": []
   },
   "source": [
    "#### Review of truthy values\n",
    "Built-in types can hold a wide range of values, but programmers decided there is one false value, while everything else is True. For example:"
   ]
  },
  {
   "cell_type": "code",
   "execution_count": null,
   "id": "2fd24e26-12c6-4b64-995d-46407951fb3a",
   "metadata": {},
   "outputs": [],
   "source": [
    "bool(0), bool(0.0), bool(''), bool(None)"
   ]
  },
  {
   "cell_type": "code",
   "execution_count": null,
   "id": "6ddcf673-1bc7-4c03-933f-52ca9205066e",
   "metadata": {},
   "outputs": [],
   "source": [
    "bool(1), bool(139), bool(98.7), bool('Hello')"
   ]
  },
  {
   "cell_type": "markdown",
   "id": "eaa4ae84-5872-4175-a301-314dda9d5c84",
   "metadata": {},
   "source": [
    "In addition, True and False have default values when converted to other types, which can be used creatively to express some logic"
   ]
  },
  {
   "cell_type": "code",
   "execution_count": null,
   "id": "84385337-b81f-4075-9c94-82e31fa2359d",
   "metadata": {},
   "outputs": [],
   "source": [
    "int(False), float(False), int(True), float(True), \"Hello World\" * False, \"Hello World\" * True"
   ]
  },
  {
   "cell_type": "markdown",
   "id": "5724e84f-91d8-4a17-9239-da4da9ebb872",
   "metadata": {},
   "source": [
    "## Main Activity\n",
    "### Section 1: Truth tables"
   ]
  },
  {
   "cell_type": "markdown",
   "id": "8774706d-bc7c-4f94-a276-1f50f0eed0aa",
   "metadata": {},
   "source": [
    "Draw truth tables for the following propositions. Follow the example below:"
   ]
  },
  {
   "cell_type": "markdown",
   "id": "90b5c56b-07f1-4132-8865-f9592f2ff775",
   "metadata": {},
   "source": [
    "| p      | q | p and q |\n",
    "| ----------- | ----------- | ---- |\n",
    "| True      | True       | _ |\n",
    "| True   | False        | _ |\n",
    "| False   | True        | _ |\n",
    "| False   | False        | _ |"
   ]
  },
  {
   "cell_type": "code",
   "execution_count": null,
   "id": "72dd7b11-f650-4256-9d99-e36294bcd186",
   "metadata": {},
   "outputs": [],
   "source": [
    "p and q"
   ]
  },
  {
   "cell_type": "code",
   "execution_count": null,
   "id": "65a90b18-c03e-41de-8e1e-6375d53a6ec9",
   "metadata": {},
   "outputs": [],
   "source": [
    "p or q"
   ]
  },
  {
   "cell_type": "code",
   "execution_count": null,
   "id": "1c0ec314-a064-4a2d-b302-ec8ec2fb1448",
   "metadata": {},
   "outputs": [],
   "source": [
    "not (not q and not p)"
   ]
  },
  {
   "cell_type": "code",
   "execution_count": null,
   "id": "1669ce48-0b99-4e3d-a725-08cef064ab4f",
   "metadata": {},
   "outputs": [],
   "source": [
    "p and q or r"
   ]
  },
  {
   "cell_type": "code",
   "execution_count": null,
   "id": "c6098dd9-b90d-477b-bae6-ceb8680cf6b1",
   "metadata": {},
   "outputs": [],
   "source": [
    "r or p and not q"
   ]
  },
  {
   "cell_type": "code",
   "execution_count": null,
   "id": "36180bee-ba2d-486a-a183-6a78b9efc086",
   "metadata": {},
   "outputs": [],
   "source": [
    "(q or p) and r or q"
   ]
  },
  {
   "cell_type": "markdown",
   "id": "404ac0da-6e6d-45bf-8b8f-b8b3fc8f937e",
   "metadata": {},
   "source": [
    "Draw a table of input types vs output types for all math operators"
   ]
  },
  {
   "cell_type": "markdown",
   "id": "df490e57-09c4-44b1-b60f-36d0bd0288ad",
   "metadata": {},
   "source": [
    "Types: bool, int, str, float\n",
    "\n",
    "Math operators: +, -, *, **, %, //, /\n",
    "\n",
    "Relational operators: >, <, >=, <=, ==, !=\n",
    "\n",
    "Conditional operators: not, and , or"
   ]
  },
  {
   "cell_type": "code",
   "execution_count": 10,
   "id": "e679c8ad-ce1f-4b6f-90e7-5dc3053609b9",
   "metadata": {},
   "outputs": [
    {
     "name": "stdout",
     "output_type": "stream",
     "text": [
      "30\n"
     ]
    }
   ],
   "source": [
    "a = \"Hello\"\n",
    "b = 20\n",
    "if not a:\n",
    "    b /= 2\n",
    "else:\n",
    "    b *= 2\n",
    "b -= 10\n",
    "print(b)"
   ]
  },
  {
   "cell_type": "code",
   "execution_count": 1,
   "id": "2bf250eb-6ab2-480c-b2a9-25a3f256beb5",
   "metadata": {},
   "outputs": [
    {
     "name": "stdout",
     "output_type": "stream",
     "text": [
      "p and r and not q\n"
     ]
    }
   ],
   "source": [
    "p = True\n",
    "q = False\n",
    "r = True\n",
    "\n",
    "if p and r:\n",
    "    if not q:\n",
    "        print(\"p and r and not q\")\n",
    "    else:\n",
    "        print(\"p and r and q\")\n",
    "elif r and not q:\n",
    "    print(\"r and not q\")\n",
    "elif r and not q and p:\n",
    "    print(\"r and not q and p\")"
   ]
  },
  {
   "cell_type": "code",
   "execution_count": 29,
   "id": "e353c9cc-0ff9-423d-b9c1-904de3df4cbb",
   "metadata": {},
   "outputs": [
    {
     "data": {
      "text/plain": [
       "6"
      ]
     },
     "execution_count": 29,
     "metadata": {},
     "output_type": "execute_result"
    }
   ],
   "source": [
    "def transform(a, b):\n",
    "    if a >= 5:\n",
    "        return a and b\n",
    "    else:\n",
    "        return a * b\n",
    "\n",
    "transform(6, \"Hello\")"
   ]
  },
  {
   "cell_type": "code",
   "execution_count": 2,
   "id": "f801aeff-e007-4ba3-9f1c-063b9bef1b49",
   "metadata": {},
   "outputs": [
    {
     "data": {
      "text/plain": [
       "7"
      ]
     },
     "execution_count": 2,
     "metadata": {},
     "output_type": "execute_result"
    }
   ],
   "source": [
    "6 and 7"
   ]
  },
  {
   "cell_type": "code",
   "execution_count": 34,
   "id": "87876216-ac59-4443-b7d6-5cc3d4182f4d",
   "metadata": {},
   "outputs": [
    {
     "data": {
      "text/plain": [
       "''"
      ]
     },
     "execution_count": 34,
     "metadata": {},
     "output_type": "execute_result"
    }
   ],
   "source": [
    "\"\" and \"First\" #or \"Second\""
   ]
  },
  {
   "cell_type": "code",
   "execution_count": 37,
   "id": "2e6940f2-d7d0-4349-b75d-1e71ec67e99e",
   "metadata": {},
   "outputs": [
    {
     "name": "stdout",
     "output_type": "stream",
     "text": [
      "True\n",
      "False\n"
     ]
    }
   ],
   "source": [
    "letter = 'ce'\n",
    "\n",
    "print(letter in 'France')\n",
    "print(letter in 'Chinar')"
   ]
  },
  {
   "cell_type": "code",
   "execution_count": null,
   "id": "50a16dfb-a850-4819-950e-5cd4376e32fc",
   "metadata": {},
   "outputs": [],
   "source": [
    "# In the ASCII table, capital letters come before lower case letters\n",
    "'A' > 'a', 'a' > 'b', '0' > 'a'"
   ]
  },
  {
   "cell_type": "code",
   "execution_count": 40,
   "id": "aacbf534-5552-4f7b-a665-005ff8022208",
   "metadata": {},
   "outputs": [
    {
     "data": {
      "text/plain": [
       "(8, 4, 1)"
      ]
     },
     "execution_count": 40,
     "metadata": {},
     "output_type": "execute_result"
    }
   ],
   "source": [
    "5 + 3, 2 + 2, 1"
   ]
  },
  {
   "cell_type": "markdown",
   "id": "aed8389b-86a1-4d06-ac37-96f5de26f2dc",
   "metadata": {},
   "source": [
    "## *Closer*"
   ]
  },
  {
   "cell_type": "code",
   "execution_count": 43,
   "id": "607f9a4f-89b7-4ddd-9af0-a7826a099e23",
   "metadata": {},
   "outputs": [
    {
     "name": "stdin",
     "output_type": "stream",
     "text": [
      "Give me a number:  3\n"
     ]
    },
    {
     "data": {
      "text/plain": [
       "60"
      ]
     },
     "execution_count": 43,
     "metadata": {},
     "output_type": "execute_result"
    }
   ],
   "source": [
    "x = int(input(\"Give me a number: \"))\n",
    "\n",
    "x * 20"
   ]
  },
  {
   "cell_type": "markdown",
   "id": "3d0e9096-9ad5-47a9-ab09-037cbb1fa468",
   "metadata": {
    "jupyter": {
     "source_hidden": true
    },
    "tags": []
   },
   "source": [
    "#### CODING PROBLEM #1\n",
    "\n",
    "Write a function named last_digit that returns whether or not the last digit in a number inputted by keyboard is divisible by 3. The function should have no parameters and return a boolean.\n",
    "\n",
    "Examples:\n",
    "\n",
    "    >>> last_digit()\n",
    "    Input digit: 46\n",
    "    True\n",
    "    >>> last_digit()\n",
    "    Input digit: 0\n",
    "    False\n",
    "    >>> last_digit()\n",
    "    Input digit: 33\n",
    "    True"
   ]
  },
  {
   "cell_type": "code",
   "execution_count": 54,
   "id": "61fc8ee4-fa13-429f-9e4a-609d665db644",
   "metadata": {},
   "outputs": [
    {
     "name": "stdin",
     "output_type": "stream",
     "text": [
      "Give number:  2343592\n"
     ]
    }
   ],
   "source": [
    "def last_digit():\n",
    "    x = int(input(\"Give number: \"))\n",
    "    y = x % 10\n",
    "    if y % 3 == 0:\n",
    "\n",
    "    \n",
    "last_digit()"
   ]
  },
  {
   "cell_type": "markdown",
   "id": "d30dcdf4-ef33-4f55-b9d6-d0bfe4a44fae",
   "metadata": {},
   "source": [
    "#### CODING PROBLEM #2\n",
    "\n",
    "Write a function named longest_string that returns the longest of 3 strings. The function should have 3 arguments and return a string. If there is a tie for longest string, return None.\n",
    "\n",
    "Examples:\n",
    "\n",
    "    >>> longest_string('', 'Chinar', 'Joshi')\n",
    "    'Chinar'\n",
    "    >>> longest_string('a', 'bb', 'cc')\n",
    "    None\n",
    "    >>> longest_string('asdf', 'jkl;', 'qwerty')\n",
    "    'qwerty'"
   ]
  },
  {
   "cell_type": "code",
   "execution_count": 65,
   "id": "f441dc82-bfd9-4824-b4ff-91488603c973",
   "metadata": {},
   "outputs": [
    {
     "data": {
      "text/plain": [
       "0"
      ]
     },
     "execution_count": 65,
     "metadata": {},
     "output_type": "execute_result"
    }
   ],
   "source": [
    "int(False)"
   ]
  },
  {
   "cell_type": "code",
   "execution_count": 59,
   "id": "b86e8627-8c8a-4157-b3de-977a0f00c3dd",
   "metadata": {},
   "outputs": [
    {
     "data": {
      "text/plain": [
       "True"
      ]
     },
     "execution_count": 59,
     "metadata": {},
     "output_type": "execute_result"
    }
   ],
   "source": [
    "\"asdf\" < \"jkl;\""
   ]
  },
  {
   "cell_type": "code",
   "execution_count": 60,
   "id": "e8816545-64e2-45ea-a46f-3f1b8663967d",
   "metadata": {},
   "outputs": [
    {
     "data": {
      "text/plain": [
       "True"
      ]
     },
     "execution_count": 60,
     "metadata": {},
     "output_type": "execute_result"
    }
   ],
   "source": [
    "'a' > 'A'"
   ]
  },
  {
   "cell_type": "code",
   "execution_count": 61,
   "id": "ecd89fdd-74f9-4220-adf3-76c1088768ba",
   "metadata": {},
   "outputs": [
    {
     "data": {
      "text/plain": [
       "True"
      ]
     },
     "execution_count": 61,
     "metadata": {},
     "output_type": "execute_result"
    }
   ],
   "source": [
    "'a' > '0'"
   ]
  },
  {
   "cell_type": "code",
   "execution_count": 62,
   "id": "46a7474e-6b87-4a73-88c3-36531db074e5",
   "metadata": {},
   "outputs": [
    {
     "data": {
      "text/plain": [
       "True"
      ]
     },
     "execution_count": 62,
     "metadata": {},
     "output_type": "execute_result"
    }
   ],
   "source": [
    "'0' > '%'"
   ]
  }
 ],
 "metadata": {
  "kernelspec": {
   "display_name": "Python 3 (ipykernel)",
   "language": "python",
   "name": "python3"
  },
  "language_info": {
   "codemirror_mode": {
    "name": "ipython",
    "version": 3
   },
   "file_extension": ".py",
   "mimetype": "text/x-python",
   "name": "python",
   "nbconvert_exporter": "python",
   "pygments_lexer": "ipython3",
   "version": "3.10.9"
  }
 },
 "nbformat": 4,
 "nbformat_minor": 5
}
